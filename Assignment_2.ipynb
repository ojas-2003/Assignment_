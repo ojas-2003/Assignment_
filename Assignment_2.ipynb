{
 "cells": [
  {
   "cell_type": "code",
   "execution_count": 2,
   "id": "f48d1d69-fd8b-41b1-b02b-64ea7a2696b9",
   "metadata": {},
   "outputs": [
    {
     "name": "stdin",
     "output_type": "stream",
     "text": [
      "Enter percentage of marks 78\n"
     ]
    },
    {
     "name": "stdout",
     "output_type": "stream",
     "text": [
      "C\n"
     ]
    }
   ],
   "source": [
    "#Answer 1\n",
    "a= int(input(\"Enter percentage of marks\"))\n",
    "\n",
    "if a>90:\n",
    "    print(\"A\")\n",
    "elif a>80 and a<=90:\n",
    "    print(\"B\")\n",
    "elif a>=60 and a<=80:\n",
    "    print(\"C\")\n",
    "else:\n",
    "    print(\"D\")"
   ]
  },
  {
   "cell_type": "code",
   "execution_count": 3,
   "id": "275e45f5-b962-4a1e-a9ed-de2146fd61ab",
   "metadata": {},
   "outputs": [
    {
     "name": "stdin",
     "output_type": "stream",
     "text": [
      "Enter cost of bike 51000\n"
     ]
    },
    {
     "name": "stdout",
     "output_type": "stream",
     "text": [
      "10%\n",
      " Tax\n"
     ]
    }
   ],
   "source": [
    "#Answer 2\n",
    "a= int(input(\"Enter cost of bike\"))\n",
    "\n",
    "if a>1e5:\n",
    "    print(\"15%\")\n",
    "elif a>5*1e4 and a<=1e5:\n",
    "    print(\"10%\")\n",
    "else:\n",
    "    print(\"5%\")\n"
   ]
  },
  {
   "cell_type": "code",
   "execution_count": 5,
   "id": "91c4cd93-6828-4134-a7af-2263f312c904",
   "metadata": {},
   "outputs": [
    {
     "name": "stdin",
     "output_type": "stream",
     "text": [
      "Enter name of the city delhi\n"
     ]
    },
    {
     "name": "stdout",
     "output_type": "stream",
     "text": [
      "Red Fort\n"
     ]
    }
   ],
   "source": [
    "#Answer 3\n",
    "a= input(\"Enter name of the city\")\n",
    "a=a.title()\n",
    "if a==\"Delhi\":\n",
    "    print(\"Red Fort\")\n",
    "elif a==\"Agra\":\n",
    "    print(\"Taj Mahal\")\n",
    "elif a==\"Jaipur\":\n",
    "    print(\"Jal Mahal\")\n",
    "else :\n",
    "    print(\"We dont have information the given city\")"
   ]
  },
  {
   "cell_type": "code",
   "execution_count": 12,
   "id": "7ccdada0-b213-46a1-a6ce-ff2e02eb5605",
   "metadata": {},
   "outputs": [
    {
     "name": "stdin",
     "output_type": "stream",
     "text": [
      "Enter a number 81\n"
     ]
    },
    {
     "name": "stdout",
     "output_type": "stream",
     "text": [
      "2\n"
     ]
    }
   ],
   "source": [
    "# Answer 4\n",
    "a=int(input(\"Enter a number\"))\n",
    "cnt=0;\n",
    "while(a>10):\n",
    "    if a%3==0:\n",
    "        cnt+=1\n",
    "        a/=3;\n",
    "    else:\n",
    "        break\n",
    "print(cnt)"
   ]
  },
  {
   "cell_type": "code",
   "execution_count": 13,
   "id": "3e781270-0b73-444a-9216-d92ee811b55f",
   "metadata": {},
   "outputs": [
    {
     "data": {
      "text/plain": [
       "'\\n1. With the while loop we can execute a set of statements as long as a condition is true.\\n2. We use a while loop when we dont know the looping range.\\n3. We have to update the parameter in order to avoid infinite looping.\\n'"
      ]
     },
     "execution_count": 13,
     "metadata": {},
     "output_type": "execute_result"
    }
   ],
   "source": [
    "# Answer 5\n",
    "'''\n",
    "1. With the while loop we can execute a set of statements as long as a condition is true.\n",
    "2. We use a while loop when we dont know the looping range.\n",
    "3. We have to update the parameter in order to avoid infinite looping.\n",
    "'''"
   ]
  },
  {
   "cell_type": "code",
   "execution_count": 14,
   "id": "174e0681-7d67-4c95-bac5-e8cca1ace1ca",
   "metadata": {},
   "outputs": [
    {
     "name": "stdin",
     "output_type": "stream",
     "text": [
      "Enter number of rows :  4\n"
     ]
    },
    {
     "name": "stdout",
     "output_type": "stream",
     "text": [
      "* \n",
      "* * \n",
      "* * * \n",
      "* * * * \n"
     ]
    }
   ],
   "source": [
    "#Answer 6\n",
    "n = int(input('Enter number of rows : '))\n",
    " \n",
    "i = 1\n",
    "while i <= n :\n",
    "    j = 1\n",
    "    while j <= i:\n",
    "        print(\"*\", end = \" \")\n",
    "        j += 1\n",
    "    print()\n",
    "    i += 1"
   ]
  },
  {
   "cell_type": "code",
   "execution_count": 15,
   "id": "7b53f0d9-8737-4e3b-8d5b-848cdffe58c7",
   "metadata": {},
   "outputs": [
    {
     "name": "stdin",
     "output_type": "stream",
     "text": [
      "Enter number of rows :  4\n"
     ]
    },
    {
     "name": "stdout",
     "output_type": "stream",
     "text": [
      "* * * * \n",
      "* * * \n",
      "* * \n",
      "* \n"
     ]
    }
   ],
   "source": [
    "n = int(input('Enter number of rows : '))\n",
    " \n",
    "i = 1\n",
    "while i <= n :\n",
    "    j = n\n",
    "    while j >= i:\n",
    "        print(\"*\", end = \" \")\n",
    "        j -= 1\n",
    "    print()\n",
    "    i += 1"
   ]
  },
  {
   "cell_type": "code",
   "execution_count": 18,
   "id": "b5f47d5a-eb0a-4c31-8970-0d0fba309b6c",
   "metadata": {},
   "outputs": [
    {
     "name": "stdin",
     "output_type": "stream",
     "text": [
      "Enter number of rows :  7\n"
     ]
    },
    {
     "name": "stdout",
     "output_type": "stream",
     "text": [
      "* * * * * * * \n",
      " * * * * * * \n",
      "  * * * * * \n",
      "   * * * * \n",
      "    * * * \n",
      "     * * \n",
      "      * \n"
     ]
    }
   ],
   "source": [
    "n = int(input('Enter number of rows : '))\n",
    "i = n\n",
    "while i>=1:\n",
    "    print(\" \"*(n-i) + \"* \" * i)\n",
    "    i-=1\n"
   ]
  },
  {
   "cell_type": "code",
   "execution_count": 23,
   "id": "b9c2a279-47f9-47dc-9867-2ee55be943cc",
   "metadata": {},
   "outputs": [
    {
     "name": "stdout",
     "output_type": "stream",
     "text": [
      "10 9 8 7 6 5 4 3 2 1 "
     ]
    }
   ],
   "source": [
    "# Answer 7\n",
    "n=10\n",
    "while(n):\n",
    "    print(n, end=\" \")\n",
    "    n-=1"
   ]
  },
  {
   "cell_type": "code",
   "execution_count": null,
   "id": "af6be0da-be43-4bbc-8739-fc7608b9b1b2",
   "metadata": {},
   "outputs": [],
   "source": []
  }
 ],
 "metadata": {
  "kernelspec": {
   "display_name": "Python 3 (ipykernel)",
   "language": "python",
   "name": "python3"
  },
  "language_info": {
   "codemirror_mode": {
    "name": "ipython",
    "version": 3
   },
   "file_extension": ".py",
   "mimetype": "text/x-python",
   "name": "python",
   "nbconvert_exporter": "python",
   "pygments_lexer": "ipython3",
   "version": "3.10.8"
  }
 },
 "nbformat": 4,
 "nbformat_minor": 5
}
