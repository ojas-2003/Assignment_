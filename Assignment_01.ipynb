{
 "cells": [
  {
   "cell_type": "markdown",
   "id": "2f836f29-031e-419b-9d10-ed7ee6fcb496",
   "metadata": {},
   "source": [
    "##### Question 1 Answer\n",
    "Guido van Rossum : A dutch programmer deleloper python in 1991.\n",
    "\n",
    "##### Question 2 Answer\n",
    "OOPs and structured programming are fully supported by python.\n",
    "\n",
    "##### Question 3 Answer\n",
    "Yes it is.\n",
    "\n",
    "##### Question 4 Answer\n",
    ".py is the extension for a python file.\n",
    "\n",
    "##### Question 5 Answer\n",
    "Python is interpreted.\n",
    "\n",
    "##### Question 6 Answer\n",
    "A module, a function body and a class definition.\n",
    "\n",
    "##### Question 7 Answer\n",
    "Hash(#)\n",
    "\n",
    "##### Question 8 Answer\n",
    "python_version() is used to find python version which is impoerted from platform.\n",
    "\n",
    "##### Question 9 Answer\n",
    "They are called lambda functions.\n",
    "\n",
    "##### Question 10 Answer\n",
    "preferred installer program (PIP) is used to install modules.\n",
    "\n",
    "##### Question 11 Answer\n",
    "print(), type(), upper() are some of the builtin functions in python.\n",
    "\n",
    "##### Question 12 Answer\n",
    "79 characters\n",
    "\n",
    "##### Question 13 Answer\n",
    "1. Very easy to learn.\n",
    "2. It has a wide range of applications.\n",
    "3. Best choice for developers.\n",
    "\n",
    "##### Question 14 Answer\n",
    "Python involves a private heap containing all Python objects and data structures.\n",
    "\n",
    "##### Question 15 Answer\n",
    "The complete path of python.exe can be added by:\n",
    "\n",
    "Right-clicking This PC and going to Properties.\n",
    "\n",
    "Clicking on the Advanced system settings in the menu on the left.\n",
    "\n",
    "Clicking on the Environment Variables button on the bottom right.\n",
    "\n",
    "In the System variables section, selecting the Path variable and clicking on Edit. The next screen will show all the directories that are currently a part of the PATH variable.\n",
    "\n",
    "Clicking on New and entering Python’s install directory.\n",
    "\n",
    "Python can now be used directly from the command prompt without having to write its location. Try executing the command python --version; it will output the version of Python installed on your system.\n",
    "\n",
    "##### Question 16 Answer\n",
    "Yes indentation is required in python."
   ]
  },
  {
   "cell_type": "markdown",
   "id": "84cfec75-01fb-4db2-949b-ee7a72dcf6a8",
   "metadata": {},
   "source": []
  }
 ],
 "metadata": {
  "kernelspec": {
   "display_name": "Python 3 (ipykernel)",
   "language": "python",
   "name": "python3"
  },
  "language_info": {
   "codemirror_mode": {
    "name": "ipython",
    "version": 3
   },
   "file_extension": ".py",
   "mimetype": "text/x-python",
   "name": "python",
   "nbconvert_exporter": "python",
   "pygments_lexer": "ipython3",
   "version": "3.10.8"
  }
 },
 "nbformat": 4,
 "nbformat_minor": 5
}
